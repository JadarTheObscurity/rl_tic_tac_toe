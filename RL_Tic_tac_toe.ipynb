{
  "nbformat": 4,
  "nbformat_minor": 0,
  "metadata": {
    "colab": {
      "provenance": [],
      "authorship_tag": "ABX9TyOrVQjHzZI2nWXyy8LxyTrP",
      "include_colab_link": true
    },
    "kernelspec": {
      "name": "python3",
      "display_name": "Python 3"
    },
    "language_info": {
      "name": "python"
    }
  },
  "cells": [
    {
      "cell_type": "markdown",
      "metadata": {
        "id": "view-in-github",
        "colab_type": "text"
      },
      "source": [
        "<a href=\"https://colab.research.google.com/github/JadarTheObscurity/rl_tic_tac_toe/blob/main/RL_Tic_tac_toe.ipynb\" target=\"_parent\"><img src=\"https://colab.research.google.com/assets/colab-badge.svg\" alt=\"Open In Colab\"/></a>"
      ]
    },
    {
      "cell_type": "code",
      "execution_count": 337,
      "metadata": {
        "id": "ZGUSTVgfNBO4"
      },
      "outputs": [],
      "source": [
        "class Game:\n",
        "    WIN_REWARD = 1\n",
        "    TIE_REWARD = 0\n",
        "    LOSE_REWARD = -1\n",
        "    INVALID_MOVE_REWARD = -1\n",
        "\n",
        "    def __init__(self):\n",
        "        self.board = np.array([0] * 9).astype(np.float32)\n",
        "        self.current_player = 1\n",
        "\n",
        "    def is_end(self):\n",
        "        # Define the winning combinations (indices) in tic-tac-toe\n",
        "        winning_combinations = [(0, 1, 2), (3, 4, 5), (6, 7, 8),  # Rows\n",
        "                                (0, 3, 6), (1, 4, 7), (2, 5, 8),  # Columns\n",
        "                                (0, 4, 8), (2, 4, 6)]             # Diagonals\n",
        "\n",
        "        # Check for a win for either player (1 or -1)\n",
        "        for player in [1, -1]:\n",
        "            for combo in winning_combinations:\n",
        "                if all(self.board[i] == player for i in combo):\n",
        "                    return player  # Player has won\n",
        "\n",
        "        # Check for a tie (all positions filled)\n",
        "        if 0 not in self.board:\n",
        "            return 0  # It's a tie\n",
        "\n",
        "        # If none of the above conditions are met, the game is still ongoing\n",
        "        return None\n",
        "\n",
        "    def play(self, pos):\n",
        "        # Check if the position is valid (within the board and not already occupied)\n",
        "        if 0 <= pos < len(self.board) and self.board[pos] == 0:\n",
        "            # Make the move\n",
        "            self.board[pos] = self.current_player\n",
        "\n",
        "            # Check if the game has ended\n",
        "            game_result = self.is_end()\n",
        "\n",
        "            if game_result == 1:\n",
        "                reward = (self.LOSE_REWARD, self.WIN_REWARD)  # Player 1 wins\n",
        "            elif game_result == -1:\n",
        "                reward = (self.WIN_REWARD, self.LOSE_REWARD)  # Player -1 wins\n",
        "            elif game_result == 0:\n",
        "                reward = (self.TIE_REWARD, self.TIE_REWARD)  # It's a tie\n",
        "            else:\n",
        "                reward = None  # Game continues\n",
        "\n",
        "            # Switch to the other player's turn\n",
        "            self.current_player *= -1\n",
        "\n",
        "        else:\n",
        "            # Invalid move\n",
        "            if self.current_player == 1:\n",
        "                reward = (self.WIN_REWARD, self.INVALID_MOVE_REWARD)  # Player -1 wins\n",
        "            else:\n",
        "                reward = (self.INVALID_MOVE_REWARD, self.WIN_REWARD)  # Player 1 wins\n",
        "        return reward\n",
        "    def get_random_valid_move(self):\n",
        "        # Generate a random permutation of the board indices\n",
        "        random_indices = np.random.permutation(9)\n",
        "\n",
        "        # Check each index to see if it's a valid move\n",
        "        for idx in random_indices:\n",
        "            if self.board[idx] == 0:\n",
        "                return idx\n",
        "        return 0\n",
        "\n",
        "    def get_random_move(self):\n",
        "        # Generate a random permutation of the board indices\n",
        "        random_indices = np.random.permutation(9)\n",
        "        return random_indices[0]\n",
        "    def get_random_invalid_move(self):\n",
        "      # Generate a random permutation of the board indices\n",
        "      random_indices = np.random.permutation(9)\n",
        "\n",
        "      # Check each index to see if it's a valid move\n",
        "      for idx in random_indices:\n",
        "          if self.board[idx] != 0:\n",
        "              return idx\n",
        "      return 0\n",
        "\n"
      ]
    },
    {
      "cell_type": "code",
      "source": [
        "import torch\n",
        "import torch.nn as nn\n",
        "import torch.nn.functional as F\n",
        "import numpy as np"
      ],
      "metadata": {
        "id": "BCz3IWIWTC1K"
      },
      "execution_count": 338,
      "outputs": []
    },
    {
      "cell_type": "code",
      "source": [
        "from torch.utils.data import Dataset\n",
        "\n",
        "class TicTacToeDataset(Dataset):\n",
        "  def __init__(self, data):\n",
        "    self.data = data\n",
        "  def __len__(self):\n",
        "    return len(self.data)\n",
        "  def __getitem__(self, idx):\n",
        "    return self.data[idx]"
      ],
      "metadata": {
        "id": "EK5r6rIDZs6A"
      },
      "execution_count": 339,
      "outputs": []
    },
    {
      "cell_type": "code",
      "source": [
        "class NN(nn.Module):\n",
        "  def __init__(self):\n",
        "    super(NN, self).__init__()\n",
        "    self.fc1 = nn.Linear(9, 81)\n",
        "    self.fc2 = nn.Linear(81, 81)\n",
        "    self.fc3 = nn.Linear(81, 9)\n",
        "    # self.seq = nn.Sequential(\n",
        "    #     nn.Linear(9, 81),\n",
        "    #     nn.ReLU(),\n",
        "    #     nn.Linear(81, 273),\n",
        "    #     nn.ReLU(),\n",
        "    #     nn.Linear(273, 81),\n",
        "    #     nn.LeakyReLU(),\n",
        "    #     nn.Linear(81, 9),\n",
        "    # )\n",
        "\n",
        "  def forward(self, x):\n",
        "    x = x.view(-1, 9)\n",
        "    x = F.tanh(self.fc1(x))\n",
        "    x = F.tanh(self.fc2(x))\n",
        "    x = self.fc3(x)\n",
        "    # x = self.seq(x)\n",
        "    return x"
      ],
      "metadata": {
        "id": "3-1PO1JnUCQM"
      },
      "execution_count": 366,
      "outputs": []
    },
    {
      "cell_type": "code",
      "source": [
        "model = NN()"
      ],
      "metadata": {
        "id": "0EHJuPdEUizZ"
      },
      "execution_count": 367,
      "outputs": []
    },
    {
      "cell_type": "code",
      "source": [
        "import torch.optim as optim\n",
        "from torch.optim.lr_scheduler import StepLR\n",
        "from torch.utils.data import DataLoader\n",
        "def compete(model, exp):\n",
        "  model.eval()\n",
        "  num_games = 100\n",
        "  model_win = 0\n",
        "  cum_game_step = 0\n",
        "  model_player = -1\n",
        "  model_pos_statistic = [0] * 9\n",
        "  # Start the game loop\n",
        "  for i in range(num_games):\n",
        "    game = Game()\n",
        "    game_step = 0\n",
        "    while True:\n",
        "        game_step += 1\n",
        "        prev_board = game.board.copy()\n",
        "        current_player = game.current_player\n",
        "        if current_player == model_player:\n",
        "          # model plays\n",
        "          pos = int(torch.argmax(model(torch.from_numpy(game.board))).numpy())\n",
        "          model_pos_statistic[pos] += 1\n",
        "        else:\n",
        "          # Get user input for the next move\n",
        "          try:\n",
        "              pos = game.get_random_valid_move()\n",
        "          except ValueError:\n",
        "              print(\"Invalid input. Please enter a number between 0 and 8.\")\n",
        "              continue\n",
        "        # Play the move and get the reward\n",
        "        reward = game.play(pos)\n",
        "        curr_board = game.board.copy()\n",
        "        reward_idx = 0 if current_player == -1 else 1\n",
        "        model_reward_idx = 0 if model_player == -1 else 1\n",
        "        player_reward_idx = 1 if model_player == -1 else 0\n",
        "        if reward is None:\n",
        "          exp.append((prev_board, pos, 0, curr_board))\n",
        "        else:\n",
        "          if reward[model_reward_idx] > reward[player_reward_idx]:\n",
        "            model_win += 1\n",
        "          exp.append((prev_board, pos, reward[reward_idx], curr_board))\n",
        "          break\n",
        "    cum_game_step += game_step\n",
        "  print(f\"Avg game step {cum_game_step / num_games} Model win rate {model_win / num_games}\")\n",
        "  print(f\"Model pos statistic {model_pos_statistic}\")\n",
        "\n",
        "def train_model(model, num_epoch, exp , losses):\n",
        "  print(f\"Experience {len(exp)}\")\n",
        "  training_data = TicTacToeDataset(exp)\n",
        "  train_dataloader = DataLoader(training_data, batch_size=1024, shuffle=True)\n",
        "  optimizer = optim.Adam(model.parameters(), lr=0.0001)\n",
        "  scheduler = StepLR(optimizer, step_size=1, gamma=0.7)\n",
        "\n",
        "  model_old = NN()\n",
        "  gamma = 0.8\n",
        "  for epoch in range(num_epoch):\n",
        "    model_old.load_state_dict(model.state_dict())\n",
        "    for batch_idx, (st, at, rt, stt) in enumerate(train_dataloader):\n",
        "      optimizer.zero_grad()\n",
        "      pred = model(st)[torch.arange(len(at)), at.squeeze()]\n",
        "      Qtt, Qtt_idx = torch.max(model_old(stt), dim=1)\n",
        "      target = rt + gamma * Qtt\n",
        "      loss = torch.square(target - pred).mean()\n",
        "      loss.backward()\n",
        "      optimizer.step()\n",
        "      losses.append(loss.item())\n",
        "    scheduler.step()\n",
        "  print(f\"Mean loss {np.mean(np.array(losses[-num_epoch:]))}\")\n"
      ],
      "metadata": {
        "id": "TzqEov5qllKE"
      },
      "execution_count": 449,
      "outputs": []
    },
    {
      "cell_type": "code",
      "source": [
        "exp = [] # (st, at, rt, st+1)\n",
        "losses = []"
      ],
      "metadata": {
        "id": "knpN1zqWX3VT"
      },
      "execution_count": 450,
      "outputs": []
    },
    {
      "cell_type": "code",
      "source": [
        "num_cycle = 100\n",
        "for cycle in range(num_cycle):\n",
        "  print(f\"Cycle: {cycle}\")\n",
        "  compete(model, exp)\n",
        "  train_model(model, 100, exp, losses)"
      ],
      "metadata": {
        "colab": {
          "base_uri": "https://localhost:8080/"
        },
        "id": "sMQ9VdmLlSkG",
        "outputId": "cc657e47-b81c-41da-c9fb-e1256aba0273"
      },
      "execution_count": null,
      "outputs": [
        {
          "output_type": "stream",
          "name": "stdout",
          "text": [
            "Cycle: 0\n",
            "Avg game step 6.85 Model win rate 0.62\n",
            "Model pos statistic [33, 14, 43, 27, 58, 73, 28, 11, 37]\n",
            "Experience 685\n",
            "Mean loss 0.012905894508585335\n",
            "Cycle: 1\n",
            "Avg game step 7.19 Model win rate 0.61\n",
            "Model pos statistic [27, 24, 38, 30, 60, 72, 39, 13, 37]\n",
            "Experience 1404\n",
            "Mean loss 0.013046651715412735\n",
            "Cycle: 2\n",
            "Avg game step 7.07 Model win rate 0.66\n",
            "Model pos statistic [28, 18, 29, 47, 60, 69, 33, 15, 38]\n",
            "Experience 2111\n",
            "Mean loss 0.01462204831186682\n",
            "Cycle: 3\n",
            "Avg game step 7.02 Model win rate 0.69\n",
            "Model pos statistic [26, 11, 35, 39, 55, 70, 30, 16, 54]\n",
            "Experience 2813\n",
            "Mean loss 0.014368637008592486\n",
            "Cycle: 4\n",
            "Avg game step 6.99 Model win rate 0.61\n",
            "Model pos statistic [24, 18, 26, 43, 62, 80, 33, 9, 35]\n",
            "Experience 3512\n",
            "Mean loss 0.01377937214449048\n",
            "Cycle: 5\n",
            "Avg game step 6.88 Model win rate 0.65\n",
            "Model pos statistic [29, 13, 29, 40, 55, 71, 34, 16, 40]\n",
            "Experience 4200\n",
            "Mean loss 0.013800984900444745\n",
            "Cycle: 6\n",
            "Avg game step 6.96 Model win rate 0.65\n",
            "Model pos statistic [38, 17, 37, 33, 44, 80, 26, 9, 47]\n",
            "Experience 4896\n",
            "Mean loss 0.01426383594982326\n",
            "Cycle: 7\n",
            "Avg game step 6.91 Model win rate 0.55\n",
            "Model pos statistic [29, 13, 35, 44, 50, 86, 21, 13, 32]\n",
            "Experience 5587\n",
            "Mean loss 0.0142448671720922\n",
            "Cycle: 8\n",
            "Avg game step 6.9 Model win rate 0.66\n",
            "Model pos statistic [28, 14, 33, 36, 52, 90, 20, 20, 35]\n",
            "Experience 6277\n",
            "Mean loss 0.014113151179626584\n",
            "Cycle: 9\n",
            "Avg game step 7.0 Model win rate 0.67\n",
            "Model pos statistic [27, 12, 45, 27, 49, 86, 24, 17, 47]\n",
            "Experience 6977\n",
            "Mean loss 0.014474549917504192\n",
            "Cycle: 10\n",
            "Avg game step 6.97 Model win rate 0.61\n",
            "Model pos statistic [33, 12, 38, 35, 48, 90, 25, 19, 29]\n",
            "Experience 7674\n",
            "Mean loss 0.014479673961177468\n",
            "Cycle: 11\n",
            "Avg game step 6.83 Model win rate 0.74\n",
            "Model pos statistic [28, 7, 41, 38, 50, 88, 20, 15, 42]\n",
            "Experience 8357\n",
            "Mean loss 0.015017149383202194\n",
            "Cycle: 12\n",
            "Avg game step 6.77 Model win rate 0.71\n",
            "Model pos statistic [28, 9, 48, 33, 57, 83, 16, 12, 38]\n",
            "Experience 9034\n",
            "Mean loss 0.01512580961920321\n",
            "Cycle: 13\n",
            "Avg game step 6.82 Model win rate 0.7\n",
            "Model pos statistic [27, 11, 45, 52, 54, 80, 19, 12, 26]\n",
            "Experience 9716\n",
            "Mean loss 0.015477611999958753\n",
            "Cycle: 14\n",
            "Avg game step 6.8 Model win rate 0.74\n",
            "Model pos statistic [27, 15, 46, 36, 44, 86, 23, 12, 38]\n",
            "Experience 10396\n",
            "Mean loss 0.015889756614342332\n",
            "Cycle: 15\n",
            "Avg game step 6.71 Model win rate 0.68\n",
            "Model pos statistic [24, 9, 46, 46, 44, 79, 25, 4, 44]\n",
            "Experience 11067\n",
            "Mean loss 0.016774602830410004\n",
            "Cycle: 16\n",
            "Avg game step 6.65 Model win rate 0.75\n",
            "Model pos statistic [26, 11, 45, 43, 48, 81, 21, 3, 42]\n",
            "Experience 11732\n",
            "Mean loss 0.017082893531769516\n",
            "Cycle: 17\n",
            "Avg game step 6.54 Model win rate 0.68\n",
            "Model pos statistic [20, 3, 52, 42, 46, 78, 19, 13, 38]\n",
            "Experience 12386\n",
            "Mean loss 0.017504029339179397\n",
            "Cycle: 18\n",
            "Avg game step 6.5 Model win rate 0.82\n",
            "Model pos statistic [15, 5, 55, 45, 53, 82, 19, 3, 39]\n",
            "Experience 13036\n",
            "Mean loss 0.017684036204591393\n",
            "Cycle: 19\n",
            "Avg game step 6.45 Model win rate 0.83\n",
            "Model pos statistic [26, 2, 50, 46, 51, 78, 19, 3, 39]\n",
            "Experience 13681\n",
            "Mean loss 0.018127885116264224\n",
            "Cycle: 20\n",
            "Avg game step 6.37 Model win rate 0.77\n",
            "Model pos statistic [22, 3, 50, 44, 53, 74, 14, 2, 45]\n",
            "Experience 14318\n",
            "Mean loss 0.018563273400068282\n",
            "Cycle: 21\n",
            "Avg game step 6.62 Model win rate 0.73\n",
            "Model pos statistic [23, 4, 33, 69, 53, 79, 23, 4, 30]\n",
            "Experience 14980\n",
            "Mean loss 0.019286365639418365\n",
            "Cycle: 22\n",
            "Avg game step 6.49 Model win rate 0.75\n",
            "Model pos statistic [26, 4, 30, 74, 53, 81, 24, 4, 16]\n",
            "Experience 15629\n",
            "Mean loss 0.01975966626778245\n",
            "Cycle: 23\n",
            "Avg game step 6.5 Model win rate 0.76\n",
            "Model pos statistic [30, 5, 36, 68, 42, 78, 16, 3, 35]\n",
            "Experience 16279\n",
            "Mean loss 0.020318523645401\n",
            "Cycle: 24\n",
            "Avg game step 6.53 Model win rate 0.75\n",
            "Model pos statistic [29, 1, 33, 76, 52, 73, 23, 3, 24]\n",
            "Experience 16932\n",
            "Mean loss 0.020992850633338094\n",
            "Cycle: 25\n",
            "Avg game step 6.51 Model win rate 0.73\n",
            "Model pos statistic [28, 1, 37, 64, 50, 79, 15, 6, 32]\n",
            "Experience 17583\n",
            "Mean loss 0.021547865625470876\n",
            "Cycle: 26\n",
            "Avg game step 6.46 Model win rate 0.66\n",
            "Model pos statistic [28, 1, 40, 69, 44, 73, 15, 3, 33]\n",
            "Experience 18229\n",
            "Mean loss 0.022096292544156314\n",
            "Cycle: 27\n",
            "Avg game step 6.46 Model win rate 0.66\n",
            "Model pos statistic [28, 0, 44, 67, 39, 73, 21, 3, 31]\n",
            "Experience 18875\n",
            "Mean loss 0.0224558412283659\n",
            "Cycle: 28\n",
            "Avg game step 6.59 Model win rate 0.63\n",
            "Model pos statistic [22, 0, 41, 64, 45, 79, 15, 5, 42]\n",
            "Experience 19534\n",
            "Mean loss 0.02298621534369886\n",
            "Cycle: 29\n",
            "Avg game step 6.66 Model win rate 0.74\n",
            "Model pos statistic [37, 1, 36, 70, 41, 68, 30, 2, 35]\n",
            "Experience 20200\n",
            "Mean loss 0.023327773213386537\n",
            "Cycle: 30\n",
            "Avg game step 6.51 Model win rate 0.84\n",
            "Model pos statistic [19, 1, 38, 71, 52, 79, 17, 0, 41]\n",
            "Experience 20851\n",
            "Mean loss 0.023601358495652675\n",
            "Cycle: 31\n",
            "Avg game step 6.68 Model win rate 0.62\n",
            "Model pos statistic [28, 2, 43, 65, 44, 83, 18, 3, 31]\n",
            "Experience 21519\n",
            "Mean loss 0.023741316478699447\n",
            "Cycle: 32\n",
            "Avg game step 6.39 Model win rate 0.76\n",
            "Model pos statistic [22, 1, 39, 64, 45, 89, 11, 0, 37]\n",
            "Experience 22158\n",
            "Mean loss 0.024349412731826305\n",
            "Cycle: 33\n",
            "Avg game step 6.48 Model win rate 0.78\n",
            "Model pos statistic [19, 2, 38, 62, 48, 88, 16, 2, 39]\n",
            "Experience 22806\n",
            "Mean loss 0.02479141904041171\n",
            "Cycle: 34\n",
            "Avg game step 6.48 Model win rate 0.74\n",
            "Model pos statistic [22, 1, 46, 57, 45, 84, 16, 0, 41]\n",
            "Experience 23454\n",
            "Mean loss 0.024979646746069194\n",
            "Cycle: 35\n",
            "Avg game step 6.55 Model win rate 0.75\n",
            "Model pos statistic [29, 1, 41, 68, 38, 83, 17, 0, 38]\n",
            "Experience 24109\n",
            "Mean loss 0.025209355112165214\n",
            "Cycle: 36\n",
            "Avg game step 6.67 Model win rate 0.72\n",
            "Model pos statistic [25, 0, 41, 74, 44, 86, 16, 2, 32]\n",
            "Experience 24776\n",
            "Mean loss 0.025464147944003344\n",
            "Cycle: 37\n",
            "Avg game step 6.47 Model win rate 0.75\n",
            "Model pos statistic [15, 0, 39, 73, 52, 82, 13, 2, 36]\n",
            "Experience 25423\n",
            "Mean loss 0.02573656342923641\n",
            "Cycle: 38\n",
            "Avg game step 6.37 Model win rate 0.71\n",
            "Model pos statistic [18, 0, 44, 55, 48, 82, 18, 2, 37]\n",
            "Experience 26060\n",
            "Mean loss 0.02586898420006037\n",
            "Cycle: 39\n",
            "Avg game step 6.4 Model win rate 0.7\n",
            "Model pos statistic [20, 1, 36, 52, 61, 81, 24, 1, 29]\n",
            "Experience 26700\n",
            "Mean loss 0.026349453050643207\n",
            "Cycle: 40\n",
            "Avg game step 6.43 Model win rate 0.78\n",
            "Model pos statistic [19, 0, 30, 66, 62, 85, 22, 1, 26]\n",
            "Experience 27343\n",
            "Mean loss 0.026156597845256327\n",
            "Cycle: 41\n",
            "Avg game step 6.39 Model win rate 0.77\n",
            "Model pos statistic [17, 0, 39, 55, 57, 80, 16, 4, 40]\n",
            "Experience 27982\n",
            "Mean loss 0.026223754063248634\n",
            "Cycle: 42\n",
            "Avg game step 6.48 Model win rate 0.75\n",
            "Model pos statistic [17, 0, 43, 49, 63, 81, 29, 1, 30]\n",
            "Experience 28630\n",
            "Mean loss 0.02681617787107825\n",
            "Cycle: 43\n",
            "Avg game step 6.36 Model win rate 0.72\n",
            "Model pos statistic [23, 0, 37, 60, 55, 70, 28, 1, 31]\n",
            "Experience 29266\n",
            "Mean loss 0.02706936975941062\n",
            "Cycle: 44\n",
            "Avg game step 6.39 Model win rate 0.79\n",
            "Model pos statistic [16, 0, 35, 61, 64, 77, 24, 1, 31]\n",
            "Experience 29905\n",
            "Mean loss 0.02726571686565876\n",
            "Cycle: 45\n",
            "Avg game step 6.48 Model win rate 0.69\n",
            "Model pos statistic [24, 0, 35, 52, 63, 73, 24, 2, 36]\n",
            "Experience 30553\n",
            "Mean loss 0.027232231199741365\n",
            "Cycle: 46\n",
            "Avg game step 6.33 Model win rate 0.75\n",
            "Model pos statistic [18, 0, 38, 56, 59, 82, 19, 2, 30]\n",
            "Experience 31186\n",
            "Mean loss 0.02717633955180645\n",
            "Cycle: 47\n",
            "Avg game step 6.25 Model win rate 0.74\n",
            "Model pos statistic [23, 0, 36, 52, 58, 72, 26, 0, 33]\n",
            "Experience 31811\n",
            "Mean loss 0.0267353452462703\n",
            "Cycle: 48\n",
            "Avg game step 6.53 Model win rate 0.76\n",
            "Model pos statistic [31, 0, 40, 53, 49, 70, 29, 2, 43]\n",
            "Experience 32464\n",
            "Mean loss 0.02683616753667593\n",
            "Cycle: 49\n",
            "Avg game step 6.52 Model win rate 0.76\n",
            "Model pos statistic [29, 0, 21, 74, 63, 73, 27, 2, 28]\n",
            "Experience 33116\n",
            "Mean loss 0.026981512568891048\n",
            "Cycle: 50\n",
            "Avg game step 6.53 Model win rate 0.75\n",
            "Model pos statistic [28, 0, 26, 75, 41, 74, 38, 3, 29]\n",
            "Experience 33769\n",
            "Mean loss 0.02662560772150755\n",
            "Cycle: 51\n",
            "Avg game step 6.52 Model win rate 0.65\n",
            "Model pos statistic [21, 1, 36, 69, 42, 83, 22, 1, 36]\n",
            "Experience 34421\n",
            "Mean loss 0.026540566384792328\n",
            "Cycle: 52\n",
            "Avg game step 6.53 Model win rate 0.64\n",
            "Model pos statistic [30, 0, 26, 72, 44, 80, 33, 0, 27]\n",
            "Experience 35074\n",
            "Mean loss 0.026312402617186308\n",
            "Cycle: 53\n",
            "Avg game step 6.45 Model win rate 0.72\n",
            "Model pos statistic [17, 0, 29, 73, 51, 85, 23, 2, 31]\n",
            "Experience 35719\n",
            "Mean loss 0.02611584950238466\n",
            "Cycle: 54\n",
            "Avg game step 6.48 Model win rate 0.63\n",
            "Model pos statistic [27, 0, 22, 74, 50, 80, 25, 4, 26]\n",
            "Experience 36367\n",
            "Mean loss 0.02574580555781722\n",
            "Cycle: 55\n",
            "Avg game step 6.66 Model win rate 0.66\n",
            "Model pos statistic [19, 0, 21, 78, 51, 84, 32, 6, 25]\n",
            "Experience 37033\n",
            "Mean loss 0.02533600276336074\n",
            "Cycle: 56\n",
            "Avg game step 6.59 Model win rate 0.62\n",
            "Model pos statistic [21, 0, 28, 76, 50, 82, 28, 1, 26]\n",
            "Experience 37692\n",
            "Mean loss 0.024950580690056085\n",
            "Cycle: 57\n",
            "Avg game step 6.36 Model win rate 0.71\n",
            "Model pos statistic [23, 0, 27, 68, 49, 84, 24, 2, 27]\n",
            "Experience 38328\n",
            "Mean loss 0.02434300433844328\n",
            "Cycle: 58\n",
            "Avg game step 6.49 Model win rate 0.68\n",
            "Model pos statistic [24, 0, 22, 73, 46, 89, 18, 6, 32]\n",
            "Experience 38977\n",
            "Mean loss 0.023965727519243956\n",
            "Cycle: 59\n",
            "Avg game step 6.47 Model win rate 0.69\n",
            "Model pos statistic [17, 0, 29, 71, 49, 88, 22, 2, 30]\n",
            "Experience 39624\n",
            "Mean loss 0.023539655804634095\n",
            "Cycle: 60\n",
            "Avg game step 6.64 Model win rate 0.69\n",
            "Model pos statistic [19, 1, 27, 77, 48, 80, 25, 7, 33]\n",
            "Experience 40288\n",
            "Mean loss 0.023311554435640574\n",
            "Cycle: 61\n",
            "Avg game step 6.26 Model win rate 0.78\n",
            "Model pos statistic [22, 1, 22, 76, 51, 80, 22, 1, 27]\n",
            "Experience 40914\n",
            "Mean loss 0.02262395336292684\n",
            "Cycle: 62\n",
            "Avg game step 6.54 Model win rate 0.64\n",
            "Model pos statistic [23, 0, 29, 70, 44, 85, 27, 4, 28]\n",
            "Experience 41568\n",
            "Mean loss 0.022228410001844168\n",
            "Cycle: 63\n",
            "Avg game step 6.57 Model win rate 0.68\n",
            "Model pos statistic [30, 0, 34, 68, 32, 86, 24, 3, 36]\n",
            "Experience 42225\n",
            "Mean loss 0.021744236685335636\n",
            "Cycle: 64\n",
            "Avg game step 6.56 Model win rate 0.68\n",
            "Model pos statistic [31, 0, 22, 82, 42, 76, 27, 5, 27]\n",
            "Experience 42881\n",
            "Mean loss 0.021444644127041102\n",
            "Cycle: 65\n",
            "Avg game step 6.49 Model win rate 0.68\n",
            "Model pos statistic [22, 1, 25, 79, 45, 84, 23, 3, 27]\n",
            "Experience 43530\n",
            "Mean loss 0.020867668418213726\n",
            "Cycle: 66\n",
            "Avg game step 6.56 Model win rate 0.66\n",
            "Model pos statistic [27, 1, 30, 78, 39, 78, 28, 6, 24]\n",
            "Experience 44186\n",
            "Mean loss 0.020490322504192592\n",
            "Cycle: 67\n",
            "Avg game step 6.5 Model win rate 0.74\n",
            "Model pos statistic [28, 2, 24, 77, 45, 81, 29, 3, 23]\n",
            "Experience 44836\n",
            "Mean loss 0.019891821425408126\n",
            "Cycle: 68\n",
            "Avg game step 6.28 Model win rate 0.77\n",
            "Model pos statistic [24, 0, 20, 80, 52, 83, 20, 1, 23]\n",
            "Experience 45464\n",
            "Mean loss 0.019441340137273073\n",
            "Cycle: 69\n",
            "Avg game step 6.3 Model win rate 0.74\n",
            "Model pos statistic [29, 0, 20, 72, 45, 85, 25, 2, 24]\n",
            "Experience 46094\n",
            "Mean loss 0.01876365637523122\n",
            "Cycle: 70\n",
            "Avg game step 6.53 Model win rate 0.64\n",
            "Model pos statistic [26, 0, 28, 76, 51, 84, 18, 8, 19]\n",
            "Experience 46747\n",
            "Mean loss 0.018815726842731237\n",
            "Cycle: 71\n",
            "Avg game step 6.44 Model win rate 0.64\n",
            "Model pos statistic [36, 2, 24, 76, 37, 77, 24, 4, 24]\n",
            "Experience 47391\n"
          ]
        }
      ]
    },
    {
      "cell_type": "code",
      "source": [
        "# Create a new game instance\n",
        "from google.colab import output\n",
        "import random\n",
        "model.eval()\n",
        "num_games = 1000\n",
        "model_win = 0\n",
        "cum_game_step = 0\n",
        "model_player = -1\n",
        "# Start the game loop\n",
        "for i in range(num_games):\n",
        "  game = Game()\n",
        "  game_step = 0\n",
        "  while True:\n",
        "      game_step += 1\n",
        "      # Print the current board\n",
        "      # print(\"Current Board:\")\n",
        "      prev_board = game.board.copy()\n",
        "      current_player = game.current_player\n",
        "      # for i in range(3):\n",
        "          # print(game.board[i * 3:i * 3 + 3])\n",
        "      if current_player == model_player:\n",
        "        # model plays\n",
        "        # pos = int(torch.argmax(model(torch.from_numpy(game.board))).numpy())\n",
        "        # print(f\"Model plays {pos}\")\n",
        "        if random.random() < 0.3:\n",
        "          pos = game.get_random_invalid_move()\n",
        "        else:\n",
        "          pos = game.get_random_valid_move()\n",
        "\n",
        "      else:\n",
        "        # Get user input for the next move\n",
        "        try:\n",
        "            # pos = int(input(f\"Player {game.current_player}, enter your move (0-8): \"))\n",
        "            pos = game.get_random_valid_move()\n",
        "        except ValueError:\n",
        "            print(\"Invalid input. Please enter a number between 0 and 8.\")\n",
        "            continue\n",
        "      # Play the move and get the reward\n",
        "      reward = game.play(pos)\n",
        "      curr_board = game.board.copy()\n",
        "      reward_idx = 0 if current_player == -1 else 1\n",
        "      model_reward_idx = 0 if model_player == -1 else 1\n",
        "      player_reward_idx = 1 if model_player == -1 else 0\n",
        "      if reward is None:\n",
        "        pass\n",
        "        exp.append((prev_board, pos, 0, curr_board))\n",
        "      else:\n",
        "        if reward[model_reward_idx] > reward[player_reward_idx]:\n",
        "          model_win += 1\n",
        "        exp.append((prev_board, pos, reward[reward_idx], curr_board))\n",
        "        # print(f\"{reward}\")\n",
        "        break\n",
        "  cum_game_step += game_step\n",
        "print(f\"Avg game step {cum_game_step / num_games} Model win rate {model_win / num_games}\")"
      ],
      "metadata": {
        "colab": {
          "base_uri": "https://localhost:8080/"
        },
        "id": "n5ioy9ZmPllJ",
        "outputId": "44f673f8-5e6d-48e4-ec83-b900e397a36d"
      },
      "execution_count": 421,
      "outputs": [
        {
          "output_type": "stream",
          "name": "stdout",
          "text": [
            "Avg game step 4.912 Model win rate 0.101\n"
          ]
        }
      ]
    },
    {
      "cell_type": "code",
      "source": [
        "for e in exp[10:30]:\n",
        "  print(e)"
      ],
      "metadata": {
        "colab": {
          "base_uri": "https://localhost:8080/"
        },
        "id": "Mnx3pOOhyXFh",
        "outputId": "56ac07e5-e126-4492-c2c8-b563cae20534"
      },
      "execution_count": 404,
      "outputs": [
        {
          "output_type": "stream",
          "name": "stdout",
          "text": [
            "(array([0., 0., 1., 0., 0., 0., 0., 0., 0.], dtype=float32), 2, -1, array([0., 0., 1., 0., 0., 0., 0., 0., 0.], dtype=float32))\n",
            "(array([0., 0., 0., 0., 0., 1., 0., 0., 0.], dtype=float32), 5, -1, array([0., 0., 0., 0., 0., 1., 0., 0., 0.], dtype=float32))\n",
            "(array([0., 0., 0., 0., 0., 1., 0., 0., 0.], dtype=float32), 5, -1, array([0., 0., 0., 0., 0., 1., 0., 0., 0.], dtype=float32))\n",
            "(array([0., 0., 0., 0., 0., 0., 0., 0., 1.], dtype=float32), 8, -1, array([0., 0., 0., 0., 0., 0., 0., 0., 1.], dtype=float32))\n",
            "(array([0., 0., 0., 0., 1., 0., 0., 0., 0.], dtype=float32), 4, -1, array([0., 0., 0., 0., 1., 0., 0., 0., 0.], dtype=float32))\n",
            "(array([0., 0., 1., 0., 0., 0., 0., 0., 0.], dtype=float32), 2, -1, array([0., 0., 1., 0., 0., 0., 0., 0., 0.], dtype=float32))\n",
            "(array([0., 0., 0., 0., 0., 0., 1., 0., 0.], dtype=float32), 6, -1, array([0., 0., 0., 0., 0., 0., 1., 0., 0.], dtype=float32))\n",
            "(array([0., 0., 0., 0., 0., 1., 0., 0., 0.], dtype=float32), 5, -1, array([0., 0., 0., 0., 0., 1., 0., 0., 0.], dtype=float32))\n",
            "(array([1., 0., 0., 0., 0., 0., 0., 0., 0.], dtype=float32), 0, -1, array([1., 0., 0., 0., 0., 0., 0., 0., 0.], dtype=float32))\n",
            "(array([1., 0., 0., 0., 0., 0., 0., 0., 0.], dtype=float32), 0, -1, array([1., 0., 0., 0., 0., 0., 0., 0., 0.], dtype=float32))\n",
            "(array([0., 0., 0., 1., 0., 0., 0., 0., 0.], dtype=float32), 3, -1, array([0., 0., 0., 1., 0., 0., 0., 0., 0.], dtype=float32))\n",
            "(array([0., 0., 0., 0., 0., 0., 1., 0., 0.], dtype=float32), 6, -1, array([0., 0., 0., 0., 0., 0., 1., 0., 0.], dtype=float32))\n",
            "(array([0., 0., 0., 0., 0., 0., 1., 0., 0.], dtype=float32), 6, -1, array([0., 0., 0., 0., 0., 0., 1., 0., 0.], dtype=float32))\n",
            "(array([0., 0., 0., 0., 1., 0., 0., 0., 0.], dtype=float32), 4, -1, array([0., 0., 0., 0., 1., 0., 0., 0., 0.], dtype=float32))\n",
            "(array([0., 1., 0., 0., 0., 0., 0., 0., 0.], dtype=float32), 1, -1, array([0., 1., 0., 0., 0., 0., 0., 0., 0.], dtype=float32))\n",
            "(array([0., 0., 0., 0., 0., 1., 0., 0., 0.], dtype=float32), 5, -1, array([0., 0., 0., 0., 0., 1., 0., 0., 0.], dtype=float32))\n",
            "(array([0., 0., 0., 0., 0., 0., 0., 0., 1.], dtype=float32), 8, -1, array([0., 0., 0., 0., 0., 0., 0., 0., 1.], dtype=float32))\n",
            "(array([ 0., -1.,  1.,  0.,  0.,  0.,  0.,  1.,  0.], dtype=float32), 7, -1, array([ 0., -1.,  1.,  0.,  0.,  0.,  0.,  1.,  0.], dtype=float32))\n",
            "(array([0., 0., 0., 0., 1., 0., 0., 0., 0.], dtype=float32), 4, -1, array([0., 0., 0., 0., 1., 0., 0., 0., 0.], dtype=float32))\n",
            "(array([0., 0., 0., 0., 0., 0., 0., 0., 1.], dtype=float32), 8, -1, array([0., 0., 0., 0., 0., 0., 0., 0., 1.], dtype=float32))\n"
          ]
        }
      ]
    },
    {
      "cell_type": "code",
      "source": [
        "from torch.utils.data import DataLoader\n",
        "print(len(exp))\n",
        "training_data = TicTacToeDataset(exp)\n",
        "train_dataloader = DataLoader(training_data, batch_size=64, shuffle=True)"
      ],
      "metadata": {
        "colab": {
          "base_uri": "https://localhost:8080/"
        },
        "id": "xVk1YGYraOuN",
        "outputId": "06493afb-9ee2-4640-d4fa-9088ee09f7b2"
      },
      "execution_count": 422,
      "outputs": [
        {
          "output_type": "stream",
          "name": "stdout",
          "text": [
            "4912\n"
          ]
        }
      ]
    },
    {
      "cell_type": "code",
      "source": [
        "import torch.optim as optim\n",
        "from torch.optim.lr_scheduler import StepLR\n",
        "optimizer = optim.Adam(model.parameters(), lr=0.01) # Change this from Adadelta to Adam drastically improves loss\n",
        "scheduler = StepLR(optimizer, step_size=1, gamma=0.7)"
      ],
      "metadata": {
        "id": "pdWhIv-je3Xg"
      },
      "execution_count": 423,
      "outputs": []
    },
    {
      "cell_type": "code",
      "source": [
        "model_old = NN()\n",
        "model_old.load_state_dict(model.state_dict())"
      ],
      "metadata": {
        "colab": {
          "base_uri": "https://localhost:8080/"
        },
        "id": "dLc5n1ca5ot7",
        "outputId": "4dacebcc-ced8-45d6-9b5a-db5333a6a93e"
      },
      "execution_count": 424,
      "outputs": [
        {
          "output_type": "execute_result",
          "data": {
            "text/plain": [
              "<All keys matched successfully>"
            ]
          },
          "metadata": {},
          "execution_count": 424
        }
      ]
    },
    {
      "cell_type": "code",
      "source": [
        "from tqdm import tqdm\n",
        "num_epoch = 1000\n",
        "gamma = 0.1\n",
        "model.train()\n",
        "model_old.eval()\n",
        "for epoch in tqdm(range(num_epoch)):\n",
        "  model_old.load_state_dict(model.state_dict())\n",
        "  for batch_idx, (st, at, rt, stt) in enumerate(train_dataloader):\n",
        "    optimizer.zero_grad()\n",
        "    pred = model(st)[torch.arange(len(at)), at.squeeze()]\n",
        "    Qtt, Qtt_idx = torch.max(model_old(stt), dim=1)\n",
        "    target = rt + gamma * Qtt\n",
        "    loss = torch.square(target - pred).mean()\n",
        "    loss.backward()\n",
        "    optimizer.step()\n",
        "    losses.append(loss.item())\n",
        "  scheduler.step()\n",
        "  # print(f\"Mean loss {np.mean(np.array(losses[-num_epoch:]))}\")"
      ],
      "metadata": {
        "colab": {
          "base_uri": "https://localhost:8080/"
        },
        "id": "asraJbWJauNf",
        "outputId": "b3733f2d-9df5-4260-da46-8020e3bc8b4f"
      },
      "execution_count": 425,
      "outputs": [
        {
          "output_type": "stream",
          "name": "stderr",
          "text": [
            "100%|██████████| 1000/1000 [03:46<00:00,  4.42it/s]\n"
          ]
        }
      ]
    },
    {
      "cell_type": "code",
      "source": [
        "import matplotlib.pyplot as plt\n",
        "plt.plot(losses[-100:])"
      ],
      "metadata": {
        "colab": {
          "base_uri": "https://localhost:8080/",
          "height": 447
        },
        "id": "imUBJ2nhgW21",
        "outputId": "88e11b38-af07-4e80-ed24-14103b6e3724"
      },
      "execution_count": 443,
      "outputs": [
        {
          "output_type": "execute_result",
          "data": {
            "text/plain": [
              "[<matplotlib.lines.Line2D at 0x7f20e3204c10>]"
            ]
          },
          "metadata": {},
          "execution_count": 443
        },
        {
          "output_type": "display_data",
          "data": {
            "text/plain": [
              "<Figure size 640x480 with 1 Axes>"
            ],
            "image/png": "[encoded data removed]"
          },
          "metadata": {}
        }
      ]
    },
    {
      "cell_type": "code",
      "source": [
        "input = torch.from_numpy(np.eye(9).astype(np.float32))\n",
        "output = model(input)\n",
        "output = output.detach().numpy()\n",
        "np.set_printoptions(precision=3, suppress=True)\n",
        "for i in range(9):\n",
        "  print(output[i])"
      ],
      "metadata": {
        "colab": {
          "base_uri": "https://localhost:8080/"
        },
        "id": "XtuQfO0BkqkP",
        "outputId": "302d21f9-fc64-4cf4-be9e-0b5779bb1616"
      },
      "execution_count": 427,
      "outputs": [
        {
          "output_type": "stream",
          "name": "stdout",
          "text": [
            "[-0.988  0.006 -0.043 -0.15  -0.058 -0.088 -0.132 -0.249 -0.088]\n",
            "[ 0.021 -0.978 -0.154 -0.141 -0.141 -0.122 -0.218 -0.137 -0.169]\n",
            "[-0.079 -0.088 -0.851 -0.175 -0.179 -0.066 -0.167 -0.156 -0.178]\n",
            "[ 0.043 -0.047 -0.137 -0.939 -0.148 -0.136 -0.121 -0.127 -0.248]\n",
            "[ 0.021  0.043 -0.143 -0.095 -1.011 -0.026 -0.139  0.    -0.05 ]\n",
            "[-0.038 -0.016 -0.15  -0.196 -0.114 -0.981 -0.16  -0.095 -0.145]\n",
            "[-0.104 -0.042 -0.053 -0.073 -0.159 -0.046 -0.961 -0.099 -0.189]\n",
            "[-0.076  0.041 -0.075 -0.122 -0.015 -0.184 -0.086 -0.937 -0.058]\n",
            "[-0.102 -0.122 -0.121 -0.074  0.009 -0.144 -0.176 -0.091 -1.001]\n"
          ]
        }
      ]
    },
    {
      "cell_type": "code",
      "source": [
        "plt.imshow(output)"
      ],
      "metadata": {
        "colab": {
          "base_uri": "https://localhost:8080/",
          "height": 447
        },
        "id": "3xRZQKW5wQOT",
        "outputId": "dcf1636b-3106-4f2a-8eae-a70e0a95e829"
      },
      "execution_count": 428,
      "outputs": [
        {
          "output_type": "execute_result",
          "data": {
            "text/plain": [
              "<matplotlib.image.AxesImage at 0x7f20e3522a40>"
            ]
          },
          "metadata": {},
          "execution_count": 428
        },
        {
          "output_type": "display_data",
          "data": {
            "text/plain": [
              "<Figure size 640x480 with 1 Axes>"
            ],
            "image/png": "[encoded data removed]"
          },
          "metadata": {}
        }
      ]
    },
    {
      "cell_type": "code",
      "source": [
        "# Create a new game instance\n",
        "from google.colab import output\n",
        "import random\n",
        "import builtins\n",
        "model.eval()\n",
        "num_games = 1\n",
        "model_win = 0\n",
        "cum_game_step = 0\n",
        "model_player = -1\n",
        "# Start the game loop\n",
        "for i in range(num_games):\n",
        "  game = Game()\n",
        "  game_step = 0\n",
        "  while True:\n",
        "      game_step += 1\n",
        "      # Print the current board\n",
        "      print(\"Current Board:\")\n",
        "      prev_board = game.board.copy()\n",
        "      current_player = game.current_player\n",
        "      for i in range(3):\n",
        "          print(game.board[i * 3:i * 3 + 3])\n",
        "      if current_player == model_player:\n",
        "        # model plays\n",
        "        pos = int(torch.argmax(model(torch.from_numpy(game.board))).numpy())\n",
        "        print(f\"Model plays {pos}\")\n",
        "\n",
        "      else:\n",
        "        # Get user input for the next move\n",
        "        try:\n",
        "            pos = builtins.input(f\"Player {current_player}, enter your move (0-8): \")\n",
        "            pos = int(pos)\n",
        "            # pos = game.get_random_valid_move()\n",
        "        except ValueError:\n",
        "            print(\"Invalid input. Please enter a number between 0 and 8.\")\n",
        "            continue\n",
        "      # Play the move and get the reward\n",
        "      reward = game.play(pos)\n",
        "      curr_board = game.board.copy()\n",
        "      reward_idx = 0 if current_player == -1 else 1\n",
        "      model_reward_idx = 0 if model_player == -1 else 1\n",
        "      player_reward_idx = 1 if model_player == -1 else 0\n",
        "      if reward is None:\n",
        "        pass\n",
        "        exp.append((prev_board, pos, 0, curr_board))\n",
        "      else:\n",
        "        if reward[model_reward_idx] > reward[player_reward_idx]:\n",
        "          model_win += 1\n",
        "        exp.append((prev_board, pos, reward[reward_idx], curr_board))\n",
        "        print(f\"{reward}\")\n",
        "        break\n",
        "  cum_game_step += game_step\n",
        "print(f\"Avg game step {cum_game_step / num_games} Model win rate {model_win / num_games}\")"
      ],
      "metadata": {
        "colab": {
          "base_uri": "https://localhost:8080/"
        },
        "id": "7P43uNxsSyNH",
        "outputId": "468f9c35-f2e2-4ddc-92c4-4778b290df58"
      },
      "execution_count": 439,
      "outputs": [
        {
          "output_type": "stream",
          "name": "stdout",
          "text": [
            "Current Board:\n",
            "[0. 0. 0.]\n",
            "[0. 0. 0.]\n",
            "[0. 0. 0.]\n",
            "Player 1, enter your move (0-8): 1\n",
            "Current Board:\n",
            "[0. 1. 0.]\n",
            "[0. 0. 0.]\n",
            "[0. 0. 0.]\n",
            "Model plays 4\n",
            "Current Board:\n",
            "[0. 1. 0.]\n",
            "[ 0. -1.  0.]\n",
            "[0. 0. 0.]\n",
            "Player 1, enter your move (0-8): 0\n",
            "Current Board:\n",
            "[1. 1. 0.]\n",
            "[ 0. -1.  0.]\n",
            "[0. 0. 0.]\n",
            "Model plays 6\n",
            "Current Board:\n",
            "[1. 1. 0.]\n",
            "[ 0. -1.  0.]\n",
            "[-1.  0.  0.]\n",
            "Player 1, enter your move (0-8): 2\n",
            "(-1, 1)\n",
            "Avg game step 5.0 Model win rate 0.0\n"
          ]
        }
      ]
    },
    {
      "cell_type": "code",
      "source": [],
      "metadata": {
        "id": "btBValKoYKrz"
      },
      "execution_count": null,
      "outputs": []
    }
  ]
}